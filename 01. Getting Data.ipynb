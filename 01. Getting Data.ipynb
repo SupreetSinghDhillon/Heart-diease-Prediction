{
 "cells": [
  {
   "cell_type": "markdown",
   "id": "7ee3f64b",
   "metadata": {},
   "source": [
    "<h1 style = \"text-align: center;\"> HEART DISEASE PREDICTION </h1>"
   ]
  },
  {
   "cell_type": "markdown",
   "id": "6566abad",
   "metadata": {},
   "source": [
    "![Title Image](https://storage.googleapis.com/kaggle-datasets-images/1582403/2603715/fc66626bcce9dec0f401f3f69c2ab2d1/dataset-cover.jpg?t=2021-09-10-18-13-42)"
   ]
  },
  {
   "cell_type": "markdown",
   "id": "e4e9977f",
   "metadata": {},
   "source": [
    "## Context\n",
    "Cardiovascular diseases (CVDs) are the number 1 cause of death globally, taking an estimated 17.9 million lives each year, which accounts for 31% of all deaths worldwide. Four out of 5 CVD deaths are due to heart attacks and strokes, and one-third of these deaths occur prematurely in people under 70 years of age. Heart failure is a common event caused by CVDs and this dataset contains 11 features that can be used to predict a possible heart disease.\n",
    "\n",
    "People with cardiovascular disease or who are at high cardiovascular risk (due to the presence of one or more risk factors such as hypertension, diabetes, hyperlipidaemia or already established disease) need early detection and management wherein a machine learning model can be of great help.\n",
    "\n",
    "## Source\n",
    "This dataset was created by combining different datasets already available independently but not combined before. In this dataset, 5 heart datasets are combined over 11 common features which makes it the largest heart disease dataset available so far for research purposes. The five datasets used for its curation are:\n",
    "- Cleveland: 303 observations\n",
    "- Hungarian: 294 observations\n",
    "- Switzerland: 123 observations\n",
    "- Long Beach VA: 200 observations\n",
    "- Stalog (Heart) Data Set: 270 observations\n",
    "\n",
    "Total: 1190 observations\\\n",
    "Duplicated: 272 observations\\\n",
    "`Final Dataset: 918 observations`"
   ]
  },
  {
   "cell_type": "markdown",
   "id": "1dc2c1ae",
   "metadata": {},
   "source": [
    "## Getting Started\n",
    "We cannot use kaggle API for this dataset so a local copy has been placed in `data` folder named as `archieve.zip`. We'll be using this copy from here on"
   ]
  },
  {
   "cell_type": "code",
   "execution_count": 1,
   "id": "603aa1ac",
   "metadata": {},
   "outputs": [
    {
     "name": "stdout",
     "output_type": "stream",
     "text": [
      "archive.zip\r\n"
     ]
    }
   ],
   "source": [
    "# List Directory Contents\n",
    "!ls data"
   ]
  },
  {
   "cell_type": "code",
   "execution_count": 2,
   "id": "858977e2",
   "metadata": {},
   "outputs": [
    {
     "name": "stdout",
     "output_type": "stream",
     "text": [
      "Archive:  data/archive.zip\r\n",
      "  inflating: data/kaggle/heart.csv   \r\n"
     ]
    }
   ],
   "source": [
    "# Extract data into data/kaggle folder\n",
    "!unzip data/archive.zip -d data/kaggle"
   ]
  },
  {
   "cell_type": "code",
   "execution_count": 3,
   "id": "1329515c",
   "metadata": {},
   "outputs": [
    {
     "name": "stdout",
     "output_type": "stream",
     "text": [
      "heart.csv\r\n"
     ]
    }
   ],
   "source": [
    "# Check data/kaggle folder\n",
    "!ls data/kaggle"
   ]
  }
 ],
 "metadata": {
  "kernelspec": {
   "display_name": "Python 3 (ipykernel)",
   "language": "python",
   "name": "python3"
  },
  "language_info": {
   "codemirror_mode": {
    "name": "ipython",
    "version": 3
   },
   "file_extension": ".py",
   "mimetype": "text/x-python",
   "name": "python",
   "nbconvert_exporter": "python",
   "pygments_lexer": "ipython3",
   "version": "3.8.10"
  }
 },
 "nbformat": 4,
 "nbformat_minor": 5
}
