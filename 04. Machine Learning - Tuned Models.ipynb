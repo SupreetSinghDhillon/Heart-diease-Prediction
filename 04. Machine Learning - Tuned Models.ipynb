{
 "cells": [
  {
   "cell_type": "markdown",
   "id": "3ccae4e8",
   "metadata": {},
   "source": [
    "<h1 style=\"text-align:center;\">MACHINE LEARNING - II</h1>"
   ]
  },
  {
   "cell_type": "markdown",
   "id": "d91fe820",
   "metadata": {},
   "source": [
    "Now, that we have our base models ready we will try to tune them to find the best possible set of hyperparamters for each model"
   ]
  },
  {
   "cell_type": "markdown",
   "id": "441c8f04",
   "metadata": {},
   "source": [
    "## Import Libraries"
   ]
  },
  {
   "cell_type": "code",
   "execution_count": 1,
   "id": "f6f0fb84",
   "metadata": {},
   "outputs": [],
   "source": [
    "# Future warning suppresor\n",
    "import warnings\n",
    "warnings.simplefilter(action='ignore', category=FutureWarning)\n",
    "\n",
    "import numpy as np\n",
    "import pandas as pd\n",
    "import matplotlib.pyplot as plt\n",
    "\n",
    "import shutil\n",
    "import os\n",
    "from joblib import dump\n",
    "from io import StringIO\n",
    "from sklearn.metrics import classification_report\n",
    "from sklearn.metrics import plot_confusion_matrix\n",
    "from matplotlib import cm\n",
    "\n",
    "from sklearn.model_selection import GridSearchCV\n",
    "from sklearn.naive_bayes import GaussianNB\n",
    "from sklearn.svm import SVC\n",
    "from sklearn.neighbors import KNeighborsClassifier\n",
    "from sklearn.tree import DecisionTreeClassifier\n",
    "from sklearn.ensemble import RandomForestClassifier\n",
    "from sklearn.ensemble import GradientBoostingClassifier\n",
    "from sklearn.neural_network import MLPClassifier"
   ]
  },
  {
   "cell_type": "markdown",
   "id": "2c272bc8",
   "metadata": {},
   "source": [
    "## Get Data"
   ]
  },
  {
   "cell_type": "code",
   "execution_count": 2,
   "id": "9cec331d",
   "metadata": {},
   "outputs": [],
   "source": [
    "# Get data files\n",
    "X_train = np.load('data/scaled/X_train.npy')\n",
    "X_valid = np.load('data/scaled/X_valid.npy')\n",
    "y_train = np.load('data/scaled/y_train.npy')\n",
    "y_valid = np.load('data/scaled/y_valid.npy')\n",
    "\n",
    "# Get scores dataframe\n",
    "scores = pd.read_csv('data/scores.csv', header=[0, 1], index_col = 0)"
   ]
  },
  {
   "cell_type": "code",
   "execution_count": 3,
   "id": "1b929f6c",
   "metadata": {},
   "outputs": [
    {
     "data": {
      "text/html": [
       "<div>\n",
       "<style scoped>\n",
       "    .dataframe tbody tr th:only-of-type {\n",
       "        vertical-align: middle;\n",
       "    }\n",
       "\n",
       "    .dataframe tbody tr th {\n",
       "        vertical-align: top;\n",
       "    }\n",
       "\n",
       "    .dataframe thead tr th {\n",
       "        text-align: left;\n",
       "    }\n",
       "</style>\n",
       "<table border=\"1\" class=\"dataframe\">\n",
       "  <thead>\n",
       "    <tr>\n",
       "      <th>Iteration</th>\n",
       "      <th colspan=\"2\" halign=\"left\">Base Model</th>\n",
       "      <th colspan=\"2\" halign=\"left\">Tuned Model</th>\n",
       "    </tr>\n",
       "    <tr>\n",
       "      <th>Accuracy</th>\n",
       "      <th>Train</th>\n",
       "      <th>Valid</th>\n",
       "      <th>Train</th>\n",
       "      <th>Valid</th>\n",
       "    </tr>\n",
       "  </thead>\n",
       "  <tbody>\n",
       "    <tr>\n",
       "      <th>GaussianNB</th>\n",
       "      <td>0.862821</td>\n",
       "      <td>0.862319</td>\n",
       "      <td>0.0</td>\n",
       "      <td>0.0</td>\n",
       "    </tr>\n",
       "    <tr>\n",
       "      <th>SVC</th>\n",
       "      <td>0.917949</td>\n",
       "      <td>0.869565</td>\n",
       "      <td>0.0</td>\n",
       "      <td>0.0</td>\n",
       "    </tr>\n",
       "    <tr>\n",
       "      <th>KNN</th>\n",
       "      <td>0.900000</td>\n",
       "      <td>0.884058</td>\n",
       "      <td>0.0</td>\n",
       "      <td>0.0</td>\n",
       "    </tr>\n",
       "    <tr>\n",
       "      <th>Decision Trees</th>\n",
       "      <td>1.000000</td>\n",
       "      <td>0.789855</td>\n",
       "      <td>0.0</td>\n",
       "      <td>0.0</td>\n",
       "    </tr>\n",
       "    <tr>\n",
       "      <th>Random Forest</th>\n",
       "      <td>1.000000</td>\n",
       "      <td>0.869565</td>\n",
       "      <td>0.0</td>\n",
       "      <td>0.0</td>\n",
       "    </tr>\n",
       "    <tr>\n",
       "      <th>Gradient Boosting</th>\n",
       "      <td>0.946154</td>\n",
       "      <td>0.869565</td>\n",
       "      <td>0.0</td>\n",
       "      <td>0.0</td>\n",
       "    </tr>\n",
       "    <tr>\n",
       "      <th>MLP Classifier</th>\n",
       "      <td>0.946154</td>\n",
       "      <td>0.869565</td>\n",
       "      <td>0.0</td>\n",
       "      <td>0.0</td>\n",
       "    </tr>\n",
       "  </tbody>\n",
       "</table>\n",
       "</div>"
      ],
      "text/plain": [
       "Iteration         Base Model           Tuned Model      \n",
       "Accuracy               Train     Valid       Train Valid\n",
       "GaussianNB          0.862821  0.862319         0.0   0.0\n",
       "SVC                 0.917949  0.869565         0.0   0.0\n",
       "KNN                 0.900000  0.884058         0.0   0.0\n",
       "Decision Trees      1.000000  0.789855         0.0   0.0\n",
       "Random Forest       1.000000  0.869565         0.0   0.0\n",
       "Gradient Boosting   0.946154  0.869565         0.0   0.0\n",
       "MLP Classifier      0.946154  0.869565         0.0   0.0"
      ]
     },
     "execution_count": 3,
     "metadata": {},
     "output_type": "execute_result"
    }
   ],
   "source": [
    "scores"
   ]
  },
  {
   "cell_type": "markdown",
   "id": "d1978d63",
   "metadata": {},
   "source": [
    "## Results functions"
   ]
  },
  {
   "cell_type": "code",
   "execution_count": 4,
   "id": "7f545dcb",
   "metadata": {},
   "outputs": [],
   "source": [
    "# Output template\n",
    "OUTPUT_TEMPLATE = (\n",
    "    'Classifier :  {name}\\n'\n",
    "    'Train Score:  {train_score:.3f}\\n'\n",
    "    'Valid Score:  {valid_score:.3f}\\n'\n",
    ")\n",
    "\n",
    "def outData(results):\n",
    "    print(OUTPUT_TEMPLATE.format(\n",
    "        name=results[0],\n",
    "        train_score=results[1],\n",
    "        valid_score=results[2],\n",
    "        ))\n",
    "\n",
    "    print(\"Classification Report:\")\n",
    "    print(classification_report(results[3], results[4]))\n",
    "    print(\"\")"
   ]
  },
  {
   "cell_type": "markdown",
   "id": "77f1f4ec",
   "metadata": {},
   "source": [
    "## Tune Model Parameters"
   ]
  },
  {
   "cell_type": "code",
   "execution_count": 5,
   "id": "67dbf102",
   "metadata": {},
   "outputs": [
    {
     "name": "stdout",
     "output_type": "stream",
     "text": [
      "Tuned Models directory already exists!\n"
     ]
    }
   ],
   "source": [
    "# Directory to save tuned models\n",
    "if not os.path.exists(\"models/tuned\"):\n",
    "    print(\"Initiated Tuned Models directory!\")\n",
    "    os.makedirs(\"models/tuned\")\n",
    "else:\n",
    "    print(\"Tuned Models directory already exists!\")"
   ]
  },
  {
   "cell_type": "code",
   "execution_count": 6,
   "id": "4f91d3bd",
   "metadata": {},
   "outputs": [],
   "source": [
    "# Train Model Function\n",
    "def train_model(model, modelName, X_train, y_train, X_valid, y_valid):\n",
    "    model = model.fit(X_train, y_train)\n",
    "    train_score = model.score(X_train, y_train)\n",
    "    valid_score = model.score(X_valid, y_valid)\n",
    "    outData([modelName, \n",
    "             model.score(X_train, y_train),\n",
    "             model.score(X_valid, y_valid),\n",
    "             y_valid,\n",
    "             model.predict(X_valid),\n",
    "             model.predict_proba(X_valid)])\n",
    "    print(\"\\nConfusion Matrix\\n\")\n",
    "    plot_confusion_matrix(model,X_valid,y_valid,cmap='gnuplot',normalize='true')\n",
    "    plt.show()\n",
    "    dump(model, 'models/tuned/' + modelName + '.joblib')\n",
    "    return  (train_score, valid_score)"
   ]
  },
  {
   "cell_type": "markdown",
   "id": "f054e0b9",
   "metadata": {},
   "source": [
    "### 1. GaussianNB\n",
    "Naive Bayes doesn't have much  hyperparameters to tune except for var_smoothening. Hence,  we'll go with that only"
   ]
  },
  {
   "cell_type": "code",
   "execution_count": 7,
   "id": "6a3357f9",
   "metadata": {},
   "outputs": [
    {
     "name": "stdout",
     "output_type": "stream",
     "text": [
      "Fitting 5 folds for each of 100 candidates, totalling 500 fits\n",
      "{'var_smoothing': 1.0}\n"
     ]
    }
   ],
   "source": [
    "# Initiate model\n",
    "model = GaussianNB()\n",
    "\n",
    "param_grid = {'var_smoothing': np.logspace(0,-9, num=100)}\n",
    "# params_model = {'var_smoothing' : [1e-11, 1e-10, 1e-9]}\n",
    "# params_model = {'var_smoothing': [0.00000001, 0.000000001, 0.00000001]}\n",
    "\n",
    "\n",
    "grid_model = GridSearchCV(estimator=model, \n",
    "                 param_grid=param_grid, \n",
    "                 cv=5,   # 5-fold cross validation \n",
    "                 verbose=1, \n",
    "                 scoring='accuracy')\n",
    "\n",
    "grid_model.fit(X_train, y_train)\n",
    "\n",
    "params = grid_model.best_params_\n",
    "print(params)"
   ]
  },
  {
   "cell_type": "code",
   "execution_count": 8,
   "id": "d7c11446",
   "metadata": {},
   "outputs": [
    {
     "name": "stdout",
     "output_type": "stream",
     "text": [
      "Classifier :  GaussianNB\n",
      "Train Score:  0.867\n",
      "Valid Score:  0.870\n",
      "\n",
      "Classification Report:\n",
      "              precision    recall  f1-score   support\n",
      "\n",
      "           0       0.83      0.89      0.86        62\n",
      "           1       0.90      0.86      0.88        76\n",
      "\n",
      "    accuracy                           0.87       138\n",
      "   macro avg       0.87      0.87      0.87       138\n",
      "weighted avg       0.87      0.87      0.87       138\n",
      "\n",
      "\n",
      "\n",
      "Confusion Matrix\n",
      "\n"
     ]
    },
    {
     "data": {
      "image/png": "[encoded data removed]",
      "text/plain": [
       "<Figure size 432x288 with 2 Axes>"
      ]
     },
     "metadata": {
      "needs_background": "light"
     },
     "output_type": "display_data"
    }
   ],
   "source": [
    "model = GaussianNB(var_smoothing=params['var_smoothing'])\n",
    "train, valid = train_model(model, \"GaussianNB\", X_train, y_train, X_valid, y_valid)\n",
    "scores.loc['GaussianNB', ['Tuned Model'][0]].loc['Train'] = train\n",
    "scores.loc['GaussianNB', ['Tuned Model'][0]].loc['Valid'] = valid"
   ]
  },
  {
   "cell_type": "markdown",
   "id": "3d20166c",
   "metadata": {},
   "source": [
    "Although, we notice a slight increase in accuracy, it isn't much so we'll be moving onto other models"
   ]
  },
  {
   "cell_type": "markdown",
   "id": "ebbb64ce",
   "metadata": {},
   "source": [
    "### 2. SVC"
   ]
  },
  {
   "cell_type": "markdown",
   "id": "bae44a50",
   "metadata": {},
   "source": [
    "In SVC, there are 3 parameters to tune, C value, gamma value and the kernel used"
   ]
  },
  {
   "cell_type": "code",
   "execution_count": 9,
   "id": "1106a740",
   "metadata": {},
   "outputs": [
    {
     "name": "stdout",
     "output_type": "stream",
     "text": [
      "Fitting 5 folds for each of 48 candidates, totalling 240 fits\n",
      "{'C': 1, 'gamma': 0.1, 'kernel': 'rbf'}\n"
     ]
    }
   ],
   "source": [
    "model = SVC()\n",
    "\n",
    "param_grid = {'C': [0.1,1, 10, 100],\n",
    "              'gamma': [1,0.1,0.01,0.001],\n",
    "              'kernel': ['rbf', 'poly', 'sigmoid']}\n",
    "\n",
    "\n",
    "grid_model = GridSearchCV(estimator=model, \n",
    "                 param_grid=param_grid, \n",
    "                 cv=5,   # 5-fold cross validation \n",
    "                 verbose=1, \n",
    "                 scoring='accuracy')\n",
    "\n",
    "grid_model.fit(X_train, y_train)\n",
    "\n",
    "params = grid_model.best_params_\n",
    "print(params)"
   ]
  },
  {
   "cell_type": "code",
   "execution_count": 10,
   "id": "6861f99f",
   "metadata": {},
   "outputs": [
    {
     "name": "stdout",
     "output_type": "stream",
     "text": [
      "Classifier :  SVC\n",
      "Train Score:  0.924\n",
      "Valid Score:  0.891\n",
      "\n",
      "Classification Report:\n",
      "              precision    recall  f1-score   support\n",
      "\n",
      "           0       0.89      0.87      0.88        62\n",
      "           1       0.90      0.91      0.90        76\n",
      "\n",
      "    accuracy                           0.89       138\n",
      "   macro avg       0.89      0.89      0.89       138\n",
      "weighted avg       0.89      0.89      0.89       138\n",
      "\n",
      "\n",
      "\n",
      "Confusion Matrix\n",
      "\n"
     ]
    },
    {
     "data": {
      "image/png": "[encoded data removed]",
      "text/plain": [
       "<Figure size 432x288 with 2 Axes>"
      ]
     },
     "metadata": {
      "needs_background": "light"
     },
     "output_type": "display_data"
    }
   ],
   "source": [
    "model = SVC(C = params['C'],\n",
    "           gamma = params['gamma'],\n",
    "           kernel = params['kernel'],\n",
    "           probability=True)\n",
    "\n",
    "train, valid = train_model(model, \"SVC\", X_train, y_train, X_valid, y_valid)\n",
    "scores.loc['SVC', ['Tuned Model'][0]].loc['Train'] = train\n",
    "scores.loc['SVC', ['Tuned Model'][0]].loc['Valid'] = valid"
   ]
  },
  {
   "cell_type": "markdown",
   "id": "670213d5",
   "metadata": {},
   "source": [
    "Again, we notice an improvement with these new parameters"
   ]
  },
  {
   "cell_type": "markdown",
   "id": "697241bf",
   "metadata": {},
   "source": [
    "### 3. KNearestNeighbours\n",
    "The only important factor to tune in KNN is the number of neighbours, and so we'll just be tuning that"
   ]
  },
  {
   "cell_type": "code",
   "execution_count": 11,
   "id": "3c986298",
   "metadata": {},
   "outputs": [
    {
     "name": "stdout",
     "output_type": "stream",
     "text": [
      "Fitting 10 folds for each of 30 candidates, totalling 300 fits\n",
      "{'n_neighbors': 17}\n"
     ]
    }
   ],
   "source": [
    "model = KNeighborsClassifier()\n",
    "\n",
    "param_grid = {'n_neighbors' : list(range(1, 31))} # 1 to 30 neighbors\n",
    "\n",
    "\n",
    "grid_model = GridSearchCV(estimator=model, \n",
    "                 param_grid=param_grid, \n",
    "                 cv=10,   # 10-fold cross validation \n",
    "                 verbose=1, \n",
    "                 scoring='accuracy')\n",
    "\n",
    "grid_model.fit(X_train, y_train)\n",
    "\n",
    "params = grid_model.best_params_\n",
    "print(params)"
   ]
  },
  {
   "cell_type": "code",
   "execution_count": 12,
   "id": "d39d554a",
   "metadata": {},
   "outputs": [
    {
     "name": "stdout",
     "output_type": "stream",
     "text": [
      "Classifier :  KNN\n",
      "Train Score:  0.882\n",
      "Valid Score:  0.877\n",
      "\n",
      "Classification Report:\n",
      "              precision    recall  f1-score   support\n",
      "\n",
      "           0       0.86      0.87      0.86        62\n",
      "           1       0.89      0.88      0.89        76\n",
      "\n",
      "    accuracy                           0.88       138\n",
      "   macro avg       0.88      0.88      0.88       138\n",
      "weighted avg       0.88      0.88      0.88       138\n",
      "\n",
      "\n",
      "\n",
      "Confusion Matrix\n",
      "\n"
     ]
    },
    {
     "data": {
      "image/png": "[encoded data removed]",
      "text/plain": [
       "<Figure size 432x288 with 2 Axes>"
      ]
     },
     "metadata": {
      "needs_background": "light"
     },
     "output_type": "display_data"
    }
   ],
   "source": [
    "model = KNeighborsClassifier(n_neighbors=params['n_neighbors'])\n",
    "train, valid = train_model(model, \"KNN\", X_train, y_train, X_valid, y_valid)\n",
    "scores.loc['KNN', ['Tuned Model'][0]].loc['Train'] = train\n",
    "scores.loc['KNN', ['Tuned Model'][0]].loc['Valid'] = valid"
   ]
  },
  {
   "cell_type": "markdown",
   "id": "5cfe9c9a",
   "metadata": {},
   "source": [
    "Although, we notice a slight decrease in accuracy, it should be noted that this is  performed on 10-fold validation"
   ]
  },
  {
   "cell_type": "markdown",
   "id": "5b873e89",
   "metadata": {},
   "source": [
    "### 4. Decision Trees"
   ]
  },
  {
   "cell_type": "code",
   "execution_count": 13,
   "id": "64c74e57",
   "metadata": {},
   "outputs": [
    {
     "name": "stdout",
     "output_type": "stream",
     "text": [
      "Fitting 5 folds for each of 576 candidates, totalling 2880 fits\n",
      "{'criterion': 'gini', 'max_depth': 5, 'min_samples_leaf': 2, 'min_samples_split': 8}\n"
     ]
    }
   ],
   "source": [
    "model = DecisionTreeClassifier()\n",
    "\n",
    "param_grid = {'criterion' : ['gini', 'entropy'],\n",
    "              'max_depth': list(range(1,10)),\n",
    "              'min_samples_split': list(range(2, 10)),\n",
    "              'min_samples_leaf': list(range(1, 5))}\n",
    "\n",
    "grid_model = GridSearchCV(estimator=model, \n",
    "                 param_grid=param_grid, \n",
    "                 cv=5,   # 5-fold cross validation \n",
    "                 verbose=1, \n",
    "                 scoring='accuracy')\n",
    "\n",
    "grid_model.fit(X_train, y_train)\n",
    "\n",
    "params = grid_model.best_params_\n",
    "print(params)"
   ]
  },
  {
   "cell_type": "code",
   "execution_count": 14,
   "id": "356cfbdb",
   "metadata": {},
   "outputs": [
    {
     "name": "stdout",
     "output_type": "stream",
     "text": [
      "Classifier :  Decision Trees\n",
      "Train Score:  0.896\n",
      "Valid Score:  0.855\n",
      "\n",
      "Classification Report:\n",
      "              precision    recall  f1-score   support\n",
      "\n",
      "           0       0.82      0.87      0.84        62\n",
      "           1       0.89      0.84      0.86        76\n",
      "\n",
      "    accuracy                           0.86       138\n",
      "   macro avg       0.85      0.86      0.85       138\n",
      "weighted avg       0.86      0.86      0.86       138\n",
      "\n",
      "\n",
      "\n",
      "Confusion Matrix\n",
      "\n"
     ]
    },
    {
     "data": {
      "image/png": "[encoded data removed]",
      "text/plain": [
       "<Figure size 432x288 with 2 Axes>"
      ]
     },
     "metadata": {
      "needs_background": "light"
     },
     "output_type": "display_data"
    }
   ],
   "source": [
    "model = DecisionTreeClassifier(criterion = params['criterion'],\n",
    "                              max_depth = params['max_depth'],\n",
    "                              min_samples_leaf = params['min_samples_leaf'],\n",
    "                              min_samples_split = params['min_samples_split'])\n",
    "\n",
    "train, valid = train_model(model, \"Decision Trees\", X_train, y_train, X_valid, y_valid)\n",
    "scores.loc['Decision Trees', ['Tuned Model'][0]].loc['Train'] = train\n",
    "scores.loc['Decision Trees', ['Tuned Model'][0]].loc['Valid'] = valid"
   ]
  },
  {
   "cell_type": "markdown",
   "id": "1ddd10c1",
   "metadata": {},
   "source": [
    "Although, the accuracy decreased from before, atleast now the model is not overfitting as it was doing earlier"
   ]
  },
  {
   "cell_type": "markdown",
   "id": "a8560bb8",
   "metadata": {},
   "source": [
    "### 5. Random Forest"
   ]
  },
  {
   "cell_type": "code",
   "execution_count": 15,
   "id": "2ae1cdd7",
   "metadata": {},
   "outputs": [
    {
     "name": "stdout",
     "output_type": "stream",
     "text": [
      "Fitting 5 folds for each of 90 candidates, totalling 450 fits\n",
      "{'criterion': 'entropy', 'max_depth': 7, 'max_features': 'auto', 'n_estimators': 100}\n"
     ]
    }
   ],
   "source": [
    "## Roughly 3 minutes to run\n",
    "model = RandomForestClassifier()\n",
    "\n",
    "param_grid = {'n_estimators' : list(range(100, 301, 100)),\n",
    "              'criterion' : ['gini', 'entropy'],\n",
    "              'max_features' : ['auto', 'sqrt', 'log2'],\n",
    "              'max_depth' : [4, 5, 6, 7, 8]}\n",
    "\n",
    "\n",
    "grid_model = GridSearchCV(estimator=model, \n",
    "                 param_grid=param_grid, \n",
    "                 cv=5,   # 5-fold cross validation \n",
    "                 verbose=1, \n",
    "                 scoring='accuracy')\n",
    "\n",
    "grid_model.fit(X_train, y_train)\n",
    "\n",
    "params = grid_model.best_params_\n",
    "print(params)"
   ]
  },
  {
   "cell_type": "code",
   "execution_count": 16,
   "id": "c515b462",
   "metadata": {},
   "outputs": [
    {
     "name": "stdout",
     "output_type": "stream",
     "text": [
      "Classifier :  Random Forest\n",
      "Train Score:  0.935\n",
      "Valid Score:  0.877\n",
      "\n",
      "Classification Report:\n",
      "              precision    recall  f1-score   support\n",
      "\n",
      "           0       0.88      0.84      0.86        62\n",
      "           1       0.87      0.91      0.89        76\n",
      "\n",
      "    accuracy                           0.88       138\n",
      "   macro avg       0.88      0.87      0.87       138\n",
      "weighted avg       0.88      0.88      0.88       138\n",
      "\n",
      "\n",
      "\n",
      "Confusion Matrix\n",
      "\n"
     ]
    },
    {
     "data": {
      "image/png": "[encoded data removed]",
      "text/plain": [
       "<Figure size 432x288 with 2 Axes>"
      ]
     },
     "metadata": {
      "needs_background": "light"
     },
     "output_type": "display_data"
    }
   ],
   "source": [
    "model = RandomForestClassifier(n_estimators = params['n_estimators'],\n",
    "                              criterion = params['criterion'],\n",
    "                              max_features = params['max_features'],\n",
    "                              max_depth = params['max_depth'])\n",
    "\n",
    "train, valid = train_model(model, \"Random Forest\", X_train, y_train, X_valid, y_valid)\n",
    "scores.loc['Random Forest', ['Tuned Model'][0]].loc['Train'] = train\n",
    "scores.loc['Random Forest', ['Tuned Model'][0]].loc['Valid'] = valid"
   ]
  },
  {
   "cell_type": "markdown",
   "id": "be4b5193",
   "metadata": {},
   "source": [
    "Again, although we notice a decrease in accuracy, atleast our model is not overfitting as before"
   ]
  },
  {
   "cell_type": "markdown",
   "id": "f2da1162",
   "metadata": {},
   "source": [
    "### 6. Gradient Boosting"
   ]
  },
  {
   "cell_type": "code",
   "execution_count": 17,
   "id": "1d30da6f",
   "metadata": {},
   "outputs": [
    {
     "name": "stdout",
     "output_type": "stream",
     "text": [
      "Fitting 5 folds for each of 486 candidates, totalling 2430 fits\n",
      "{'criterion': 'friedman_mse', 'learning_rate': 0.05, 'loss': 'deviance', 'max_depth': 3, 'max_features': 'log2', 'min_samples_leaf': 0.1, 'min_samples_split': 0.1, 'n_estimators': 10, 'subsample': 1.0}\n"
     ]
    }
   ],
   "source": [
    "# Roughly 3 minutes to run\n",
    "model = GradientBoostingClassifier()\n",
    "\n",
    "param_grid = {\"loss\":[\"deviance\"],\n",
    "              \"learning_rate\": [0.01, 0.025, 0.05],\n",
    "              \"min_samples_split\": np.linspace(0.1, 0.5, 3),\n",
    "              \"min_samples_leaf\": np.linspace(0.1, 0.5, 3),\n",
    "              \"max_depth\":[3,5,7],\n",
    "              \"max_features\":[\"log2\",\"sqrt\"],\n",
    "              \"criterion\": [\"friedman_mse\"],\n",
    "              \"subsample\":[0.5, 0.75, 1.0],\n",
    "              \"n_estimators\":[10]\n",
    "    }\n",
    "\n",
    "\n",
    "# parameters = {\n",
    "#     \"loss\":[\"deviance\"],\n",
    "#     \"learning_rate\": [0.01, 0.025, 0.05, 0.075, 0.1, 0.15, 0.2],\n",
    "#     \"min_samples_split\": np.linspace(0.1, 0.5, 12),\n",
    "#     \"min_samples_leaf\": np.linspace(0.1, 0.5, 12),\n",
    "#     \"max_depth\":[3,5,8],\n",
    "#     \"max_features\":[\"log2\",\"sqrt\"],\n",
    "#     \"criterion\": [\"friedman_mse\",  \"mae\"],\n",
    "#     \"subsample\":[0.5, 0.618, 0.8, 0.85, 0.9, 0.95, 1.0],\n",
    "#     \"n_estimators\":list(range(100, 301, 100))\n",
    "#     }\n",
    "\n",
    "\n",
    "grid_model = GridSearchCV(estimator=model, \n",
    "                 param_grid=param_grid, \n",
    "                 cv=5,   # 5-fold cross validation \n",
    "                 verbose=1, \n",
    "                 scoring='accuracy')\n",
    "\n",
    "grid_model.fit(X_train, y_train)\n",
    "\n",
    "params = grid_model.best_params_\n",
    "print(params)"
   ]
  },
  {
   "cell_type": "code",
   "execution_count": 18,
   "id": "20190c01",
   "metadata": {},
   "outputs": [
    {
     "name": "stdout",
     "output_type": "stream",
     "text": [
      "Classifier :  Gradient Boosting\n",
      "Train Score:  0.838\n",
      "Valid Score:  0.848\n",
      "\n",
      "Classification Report:\n",
      "              precision    recall  f1-score   support\n",
      "\n",
      "           0       0.89      0.76      0.82        62\n",
      "           1       0.82      0.92      0.87        76\n",
      "\n",
      "    accuracy                           0.85       138\n",
      "   macro avg       0.86      0.84      0.84       138\n",
      "weighted avg       0.85      0.85      0.85       138\n",
      "\n",
      "\n",
      "\n",
      "Confusion Matrix\n",
      "\n"
     ]
    },
    {
     "data": {
      "image/png": "[encoded data removed]",
      "text/plain": [
       "<Figure size 432x288 with 2 Axes>"
      ]
     },
     "metadata": {
      "needs_background": "light"
     },
     "output_type": "display_data"
    }
   ],
   "source": [
    "model = GradientBoostingClassifier(loss = params['loss'],\n",
    "                                  learning_rate = params['learning_rate'],\n",
    "                                  min_samples_split = params['min_samples_split'],\n",
    "                                  min_samples_leaf = params['min_samples_leaf'],\n",
    "                                  max_depth = params['max_depth'],\n",
    "                                  max_features = params['max_features'],\n",
    "                                  criterion = params['criterion'],\n",
    "                                  subsample = params['subsample'],\n",
    "                                  n_estimators = params['n_estimators'])\n",
    "\n",
    "train, valid = train_model(model, \"Gradient Boosting\", X_train, y_train, X_valid, y_valid)\n",
    "scores.loc['Gradient Boosting', ['Tuned Model'][0]].loc['Train'] = train\n",
    "scores.loc['Gradient Boosting', ['Tuned Model'][0]].loc['Valid'] = valid"
   ]
  },
  {
   "cell_type": "markdown",
   "id": "74d89640",
   "metadata": {},
   "source": [
    "We observed a decrease in accuracy after hyperparameter tuning. This can be explained by the fact that instead of using our full parameter grid (commented out), we used the other one which required less time to run considering there were less candidates in it. Had we done the full parameter grid search, we could have got better accuracy too."
   ]
  },
  {
   "cell_type": "markdown",
   "id": "721fc87a",
   "metadata": {},
   "source": [
    "### 7. MLP Classifier"
   ]
  },
  {
   "cell_type": "code",
   "execution_count": 19,
   "id": "49d6f07e",
   "metadata": {},
   "outputs": [
    {
     "name": "stdout",
     "output_type": "stream",
     "text": [
      "Fitting 5 folds for each of 8 candidates, totalling 40 fits\n"
     ]
    },
    {
     "name": "stderr",
     "output_type": "stream",
     "text": [
      "/home/ubuntu/project/lib/python3.8/site-packages/sklearn/neural_network/_multilayer_perceptron.py:692: ConvergenceWarning: Stochastic Optimizer: Maximum iterations (1700) reached and the optimization hasn't converged yet.\n",
      "  warnings.warn(\n"
     ]
    },
    {
     "name": "stdout",
     "output_type": "stream",
     "text": [
      "{'activation': 'tanh', 'alpha': 0.05, 'hidden_layer_sizes': (100, 1), 'max_iter': 1700, 'solver': 'sgd'}\n"
     ]
    }
   ],
   "source": [
    "# Approx 5 mins to run\n",
    "model = MLPClassifier()\n",
    "\n",
    "# Running on reduced parameters because of computation constraints\n",
    "param_grid = {'solver': ['sgd', 'adam'],\n",
    "              'max_iter': [1700],\n",
    "              'alpha': [0.001, 0.05],\n",
    "              'activation': [\"relu\", \"tanh\"],\n",
    "              'hidden_layer_sizes': [(100,1)]}\n",
    "\n",
    "# param_grid = {'solver': ['lbfgs', 'sdm', 'adam'],\n",
    "#               'learning_rate': [\"constant\", \"adaptive\"],\n",
    "#               'max_iter': [1700,1800,1900,2000 ],\n",
    "#               'alpha': 10.0 ** -np.arange(1, 7),\n",
    "#               'activation': [\"logistic\", \"relu\", \"tanh\"]\n",
    "#               'hidden_layer_sizes': [(100,1), (100,2), (100,3)],\n",
    "#               'random_state':[6,7,8,9]}\n",
    "\n",
    "grid_model = GridSearchCV(estimator=model, \n",
    "                 param_grid=param_grid, \n",
    "                 cv=5,   # 5-fold cross validation \n",
    "                 verbose=1, \n",
    "                 scoring='accuracy')\n",
    "\n",
    "grid_model.fit(X_train, y_train)\n",
    "\n",
    "params = grid_model.best_params_\n",
    "print(params)"
   ]
  },
  {
   "cell_type": "code",
   "execution_count": 20,
   "id": "a0407abd",
   "metadata": {},
   "outputs": [
    {
     "name": "stdout",
     "output_type": "stream",
     "text": [
      "Classifier :  MLP Classifier\n",
      "Train Score:  0.876\n",
      "Valid Score:  0.877\n",
      "\n",
      "Classification Report:\n",
      "              precision    recall  f1-score   support\n",
      "\n",
      "           0       0.85      0.89      0.87        62\n",
      "           1       0.90      0.87      0.89        76\n",
      "\n",
      "    accuracy                           0.88       138\n",
      "   macro avg       0.88      0.88      0.88       138\n",
      "weighted avg       0.88      0.88      0.88       138\n",
      "\n",
      "\n",
      "\n",
      "Confusion Matrix\n",
      "\n"
     ]
    },
    {
     "data": {
      "image/png": "[encoded data removed]",
      "text/plain": [
       "<Figure size 432x288 with 2 Axes>"
      ]
     },
     "metadata": {
      "needs_background": "light"
     },
     "output_type": "display_data"
    }
   ],
   "source": [
    "model = MLPClassifier(activation = params['activation'],\n",
    "                     alpha = params['alpha'],\n",
    "                     hidden_layer_sizes = params['hidden_layer_sizes'],\n",
    "                     max_iter = params['max_iter'],\n",
    "                     solver=params['solver'])\n",
    "train, valid = train_model(model, \"MLP Classifier\", X_train, y_train, X_valid, y_valid)\n",
    "scores.loc['MLP Classifier', ['Tuned Model'][0]].loc['Train'] = train\n",
    "scores.loc['MLP Classifier', ['Tuned Model'][0]].loc['Valid'] = valid"
   ]
  },
  {
   "cell_type": "markdown",
   "id": "8f17107f",
   "metadata": {},
   "source": [
    "Again, we observer a slight decrease in performance just as with the case of GradientBoosting. This is because we are not yet able to utilise these algorithms to their max performance via GridSearchCV due to the hardware and time limitations."
   ]
  },
  {
   "cell_type": "code",
   "execution_count": 21,
   "id": "3ca0b0b5",
   "metadata": {},
   "outputs": [
    {
     "data": {
      "text/html": [
       "<div>\n",
       "<style scoped>\n",
       "    .dataframe tbody tr th:only-of-type {\n",
       "        vertical-align: middle;\n",
       "    }\n",
       "\n",
       "    .dataframe tbody tr th {\n",
       "        vertical-align: top;\n",
       "    }\n",
       "\n",
       "    .dataframe thead tr th {\n",
       "        text-align: left;\n",
       "    }\n",
       "</style>\n",
       "<table border=\"1\" class=\"dataframe\">\n",
       "  <thead>\n",
       "    <tr>\n",
       "      <th>Iteration</th>\n",
       "      <th colspan=\"2\" halign=\"left\">Base Model</th>\n",
       "      <th colspan=\"2\" halign=\"left\">Tuned Model</th>\n",
       "    </tr>\n",
       "    <tr>\n",
       "      <th>Accuracy</th>\n",
       "      <th>Train</th>\n",
       "      <th>Valid</th>\n",
       "      <th>Train</th>\n",
       "      <th>Valid</th>\n",
       "    </tr>\n",
       "  </thead>\n",
       "  <tbody>\n",
       "    <tr>\n",
       "      <th>GaussianNB</th>\n",
       "      <td>0.862821</td>\n",
       "      <td>0.862319</td>\n",
       "      <td>0.866667</td>\n",
       "      <td>0.869565</td>\n",
       "    </tr>\n",
       "    <tr>\n",
       "      <th>SVC</th>\n",
       "      <td>0.917949</td>\n",
       "      <td>0.869565</td>\n",
       "      <td>0.924359</td>\n",
       "      <td>0.891304</td>\n",
       "    </tr>\n",
       "    <tr>\n",
       "      <th>KNN</th>\n",
       "      <td>0.900000</td>\n",
       "      <td>0.884058</td>\n",
       "      <td>0.882051</td>\n",
       "      <td>0.876812</td>\n",
       "    </tr>\n",
       "    <tr>\n",
       "      <th>Decision Trees</th>\n",
       "      <td>1.000000</td>\n",
       "      <td>0.789855</td>\n",
       "      <td>0.896154</td>\n",
       "      <td>0.855072</td>\n",
       "    </tr>\n",
       "    <tr>\n",
       "      <th>Random Forest</th>\n",
       "      <td>1.000000</td>\n",
       "      <td>0.869565</td>\n",
       "      <td>0.934615</td>\n",
       "      <td>0.876812</td>\n",
       "    </tr>\n",
       "    <tr>\n",
       "      <th>Gradient Boosting</th>\n",
       "      <td>0.946154</td>\n",
       "      <td>0.869565</td>\n",
       "      <td>0.838462</td>\n",
       "      <td>0.847826</td>\n",
       "    </tr>\n",
       "    <tr>\n",
       "      <th>MLP Classifier</th>\n",
       "      <td>0.946154</td>\n",
       "      <td>0.869565</td>\n",
       "      <td>0.875641</td>\n",
       "      <td>0.876812</td>\n",
       "    </tr>\n",
       "  </tbody>\n",
       "</table>\n",
       "</div>"
      ],
      "text/plain": [
       "Iteration         Base Model           Tuned Model          \n",
       "Accuracy               Train     Valid       Train     Valid\n",
       "GaussianNB          0.862821  0.862319    0.866667  0.869565\n",
       "SVC                 0.917949  0.869565    0.924359  0.891304\n",
       "KNN                 0.900000  0.884058    0.882051  0.876812\n",
       "Decision Trees      1.000000  0.789855    0.896154  0.855072\n",
       "Random Forest       1.000000  0.869565    0.934615  0.876812\n",
       "Gradient Boosting   0.946154  0.869565    0.838462  0.847826\n",
       "MLP Classifier      0.946154  0.869565    0.875641  0.876812"
      ]
     },
     "execution_count": 21,
     "metadata": {},
     "output_type": "execute_result"
    }
   ],
   "source": [
    "scores"
   ]
  },
  {
   "cell_type": "code",
   "execution_count": 22,
   "id": "9fda0968",
   "metadata": {},
   "outputs": [
    {
     "data": {
      "image/png": "[encoded data removed]",
      "text/plain": [
       "<Figure size 720x432 with 1 Axes>"
      ]
     },
     "metadata": {
      "needs_background": "light"
     },
     "output_type": "display_data"
    }
   ],
   "source": [
    "# Plot Base Model Train and Tuned Model Train Accuracy\n",
    "x_axis = np.arange(len(scores.index))\n",
    "\n",
    "plt.figure(figsize=(10,6))\n",
    "plt.bar(x_axis - 0.2, scores['Base Model']['Train'].values, 0.4, label = 'Train')\n",
    "plt.bar(x_axis + 0.2, scores['Tuned Model']['Train'].values, 0.4, label = 'Valid')\n",
    "plt.xticks(x_axis, list(scores.index), rotation=60)\n",
    "plt.xlabel(\"Classifier\")\n",
    "plt.ylabel(\"Accuracy\")\n",
    "plt.title(\"Train Accuracy on Base and Tuned Models\")\n",
    "plt.legend()\n",
    "plt.show()"
   ]
  },
  {
   "cell_type": "code",
   "execution_count": 23,
   "id": "79a18b0c",
   "metadata": {},
   "outputs": [
    {
     "data": {
      "image/png": "[encoded data removed]",
      "text/plain": [
       "<Figure size 864x720 with 1 Axes>"
      ]
     },
     "metadata": {
      "needs_background": "light"
     },
     "output_type": "display_data"
    }
   ],
   "source": [
    "# Plot Base Model Train and Tuned Model Train Accuracy\n",
    "x_axis = np.arange(len(scores.index))\n",
    "\n",
    "plt.figure(figsize=(12, 10))\n",
    "plt.bar(x_axis - 0.2, scores['Base Model']['Valid'].values, 0.4, label = 'Train')\n",
    "plt.bar(x_axis + 0.2, scores['Tuned Model']['Valid'].values, 0.4, label = 'Valid')\n",
    "plt.xticks(x_axis, list(scores.index), rotation=60)\n",
    "plt.xlabel(\"Classifier\")\n",
    "plt.ylabel(\"Accuracy\")\n",
    "plt.title(\"Valid Accuracy on Base and Tuned Models\")\n",
    "plt.legend()\n",
    "plt.show()"
   ]
  },
  {
   "cell_type": "markdown",
   "id": "91e1748c",
   "metadata": {},
   "source": [
    "Almost all models show an increase in validation accuracy except for Gradient Boosting and MLP Classifier. The reason for the same has been specified above."
   ]
  },
  {
   "cell_type": "code",
   "execution_count": 24,
   "id": "50bcc116",
   "metadata": {},
   "outputs": [],
   "source": [
    "## Save multicolumn scores\n",
    "buf = StringIO()\n",
    "scores.to_csv(buf)\n",
    "\n",
    "with open('data/scores-updated.csv', 'w') as file:\n",
    "    buf.seek(0)\n",
    "    shutil.copyfileobj(buf, file)"
   ]
  }
 ],
 "metadata": {
  "kernelspec": {
   "display_name": "Python 3 (ipykernel)",
   "language": "python",
   "name": "python3"
  },
  "language_info": {
   "codemirror_mode": {
    "name": "ipython",
    "version": 3
   },
   "file_extension": ".py",
   "mimetype": "text/x-python",
   "name": "python",
   "nbconvert_exporter": "python",
   "pygments_lexer": "ipython3",
   "version": "3.8.10"
  }
 },
 "nbformat": 4,
 "nbformat_minor": 5
}
