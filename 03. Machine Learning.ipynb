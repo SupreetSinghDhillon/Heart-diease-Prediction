{
 "cells": [
  {
   "cell_type": "markdown",
   "id": "4e24cc24",
   "metadata": {},
   "source": [
    "<h1 style=\"text-align: center;\">MACHINE LEARNING</h1>"
   ]
  },
  {
   "cell_type": "markdown",
   "id": "3db12d19",
   "metadata": {},
   "source": [
    "Now that we have some slight info about what and how our data looks like, we can proceed further with our Machine Learning part.\\\n",
    "Upto this point we know,\n",
    "* **Task:** Classification Problem\n",
    "* **Independent/Features Variables:**\n",
    "    - Quantitative Features:\n",
    "        - *Age*\n",
    "        - *RestingBP*\n",
    "        - *Cholesterol*\n",
    "        - *MaxHR*\n",
    "        - *Oldpeak*\n",
    "    - Ordinal Features:\n",
    "        - *FastingBS*\n",
    "        - *Sex*\n",
    "        - *ChestPainType*\n",
    "        - *RestingECG*\n",
    "        - *ExerciseAngina*\n",
    "        - *ST_Slope*\n",
    "* **Dependent/Target Variable:** HeartDisease\n",
    "* **Proposed Approach:**\n",
    "    * Convert Ordinal Features to Quantitative Features(Categorical -> Numerical)\n",
    "    * Scale Values (if needed)\n",
    "    * Apply Classification Algorithms like:\n",
    "        - *Gaussian Naive Bayes*\n",
    "        - *Nearest Neighbours*\n",
    "        - *SVC*\n",
    "        - *Decision Trees*\n",
    "        - *Random Forest*\n",
    "        - *Gradient Boosting*\n",
    "        - *MLPClassifier*"
   ]
  },
  {
   "cell_type": "markdown",
   "id": "45ce749a",
   "metadata": {},
   "source": [
    "## Import Libraries"
   ]
  },
  {
   "cell_type": "code",
   "execution_count": 1,
   "id": "2151e52c",
   "metadata": {},
   "outputs": [],
   "source": [
    "# Future Warning Suppresor\n",
    "import warnings\n",
    "warnings.simplefilter(action='ignore', category=FutureWarning)\n",
    "\n",
    "import numpy as np\n",
    "import pandas as pd\n",
    "import matplotlib.pyplot as plt\n",
    "import seaborn as sns\n",
    "\n",
    "import os\n",
    "import shutil\n",
    "from joblib import dump\n",
    "from io import StringIO\n",
    "from sklearn.model_selection import train_test_split\n",
    "from sklearn.preprocessing import StandardScaler\n",
    "from sklearn.metrics import classification_report\n",
    "from sklearn.metrics import plot_confusion_matrix\n",
    "from matplotlib import cm\n",
    "\n",
    "from sklearn.naive_bayes import GaussianNB\n",
    "from sklearn.svm import SVC\n",
    "from sklearn.neighbors import KNeighborsClassifier\n",
    "from sklearn.tree import DecisionTreeClassifier\n",
    "from sklearn.ensemble import RandomForestClassifier\n",
    "from sklearn.ensemble import GradientBoostingClassifier\n",
    "from sklearn.neural_network import MLPClassifier"
   ]
  },
  {
   "cell_type": "markdown",
   "id": "287bc8bd",
   "metadata": {},
   "source": [
    "## Get data"
   ]
  },
  {
   "cell_type": "code",
   "execution_count": 2,
   "id": "cceeb018",
   "metadata": {},
   "outputs": [],
   "source": [
    "data = pd.read_csv('data/kaggle/heart.csv')"
   ]
  },
  {
   "cell_type": "code",
   "execution_count": 3,
   "id": "7a080904",
   "metadata": {},
   "outputs": [
    {
     "data": {
      "text/html": [
       "<div>\n",
       "<style scoped>\n",
       "    .dataframe tbody tr th:only-of-type {\n",
       "        vertical-align: middle;\n",
       "    }\n",
       "\n",
       "    .dataframe tbody tr th {\n",
       "        vertical-align: top;\n",
       "    }\n",
       "\n",
       "    .dataframe thead th {\n",
       "        text-align: right;\n",
       "    }\n",
       "</style>\n",
       "<table border=\"1\" class=\"dataframe\">\n",
       "  <thead>\n",
       "    <tr style=\"text-align: right;\">\n",
       "      <th></th>\n",
       "      <th>Age</th>\n",
       "      <th>Sex</th>\n",
       "      <th>ChestPainType</th>\n",
       "      <th>RestingBP</th>\n",
       "      <th>Cholesterol</th>\n",
       "      <th>FastingBS</th>\n",
       "      <th>RestingECG</th>\n",
       "      <th>MaxHR</th>\n",
       "      <th>ExerciseAngina</th>\n",
       "      <th>Oldpeak</th>\n",
       "      <th>ST_Slope</th>\n",
       "      <th>HeartDisease</th>\n",
       "    </tr>\n",
       "  </thead>\n",
       "  <tbody>\n",
       "    <tr>\n",
       "      <th>0</th>\n",
       "      <td>40</td>\n",
       "      <td>M</td>\n",
       "      <td>ATA</td>\n",
       "      <td>140</td>\n",
       "      <td>289</td>\n",
       "      <td>0</td>\n",
       "      <td>Normal</td>\n",
       "      <td>172</td>\n",
       "      <td>N</td>\n",
       "      <td>0.0</td>\n",
       "      <td>Up</td>\n",
       "      <td>0</td>\n",
       "    </tr>\n",
       "    <tr>\n",
       "      <th>1</th>\n",
       "      <td>49</td>\n",
       "      <td>F</td>\n",
       "      <td>NAP</td>\n",
       "      <td>160</td>\n",
       "      <td>180</td>\n",
       "      <td>0</td>\n",
       "      <td>Normal</td>\n",
       "      <td>156</td>\n",
       "      <td>N</td>\n",
       "      <td>1.0</td>\n",
       "      <td>Flat</td>\n",
       "      <td>1</td>\n",
       "    </tr>\n",
       "    <tr>\n",
       "      <th>2</th>\n",
       "      <td>37</td>\n",
       "      <td>M</td>\n",
       "      <td>ATA</td>\n",
       "      <td>130</td>\n",
       "      <td>283</td>\n",
       "      <td>0</td>\n",
       "      <td>ST</td>\n",
       "      <td>98</td>\n",
       "      <td>N</td>\n",
       "      <td>0.0</td>\n",
       "      <td>Up</td>\n",
       "      <td>0</td>\n",
       "    </tr>\n",
       "    <tr>\n",
       "      <th>3</th>\n",
       "      <td>48</td>\n",
       "      <td>F</td>\n",
       "      <td>ASY</td>\n",
       "      <td>138</td>\n",
       "      <td>214</td>\n",
       "      <td>0</td>\n",
       "      <td>Normal</td>\n",
       "      <td>108</td>\n",
       "      <td>Y</td>\n",
       "      <td>1.5</td>\n",
       "      <td>Flat</td>\n",
       "      <td>1</td>\n",
       "    </tr>\n",
       "    <tr>\n",
       "      <th>4</th>\n",
       "      <td>54</td>\n",
       "      <td>M</td>\n",
       "      <td>NAP</td>\n",
       "      <td>150</td>\n",
       "      <td>195</td>\n",
       "      <td>0</td>\n",
       "      <td>Normal</td>\n",
       "      <td>122</td>\n",
       "      <td>N</td>\n",
       "      <td>0.0</td>\n",
       "      <td>Up</td>\n",
       "      <td>0</td>\n",
       "    </tr>\n",
       "  </tbody>\n",
       "</table>\n",
       "</div>"
      ],
      "text/plain": [
       "   Age Sex ChestPainType  RestingBP  Cholesterol  FastingBS RestingECG  MaxHR  \\\n",
       "0   40   M           ATA        140          289          0     Normal    172   \n",
       "1   49   F           NAP        160          180          0     Normal    156   \n",
       "2   37   M           ATA        130          283          0         ST     98   \n",
       "3   48   F           ASY        138          214          0     Normal    108   \n",
       "4   54   M           NAP        150          195          0     Normal    122   \n",
       "\n",
       "  ExerciseAngina  Oldpeak ST_Slope  HeartDisease  \n",
       "0              N      0.0       Up             0  \n",
       "1              N      1.0     Flat             1  \n",
       "2              N      0.0       Up             0  \n",
       "3              Y      1.5     Flat             1  \n",
       "4              N      0.0       Up             0  "
      ]
     },
     "execution_count": 3,
     "metadata": {},
     "output_type": "execute_result"
    }
   ],
   "source": [
    "data.head()"
   ]
  },
  {
   "cell_type": "markdown",
   "id": "ae14192e",
   "metadata": {},
   "source": [
    "Now, for converting ordinal to categorical, we can either use an assessment map and map accordingly, or we can use pandas dummies. We'll be using both methods to see if we can get any difference in results."
   ]
  },
  {
   "cell_type": "code",
   "execution_count": 4,
   "id": "d3ec871c",
   "metadata": {},
   "outputs": [],
   "source": [
    "#  Pandas dummies method\n",
    "data_dummies = pd.get_dummies(data, drop_first=True)"
   ]
  },
  {
   "cell_type": "code",
   "execution_count": 5,
   "id": "9f4b7027",
   "metadata": {},
   "outputs": [
    {
     "data": {
      "text/html": [
       "<div>\n",
       "<style scoped>\n",
       "    .dataframe tbody tr th:only-of-type {\n",
       "        vertical-align: middle;\n",
       "    }\n",
       "\n",
       "    .dataframe tbody tr th {\n",
       "        vertical-align: top;\n",
       "    }\n",
       "\n",
       "    .dataframe thead th {\n",
       "        text-align: right;\n",
       "    }\n",
       "</style>\n",
       "<table border=\"1\" class=\"dataframe\">\n",
       "  <thead>\n",
       "    <tr style=\"text-align: right;\">\n",
       "      <th></th>\n",
       "      <th>Age</th>\n",
       "      <th>RestingBP</th>\n",
       "      <th>Cholesterol</th>\n",
       "      <th>FastingBS</th>\n",
       "      <th>MaxHR</th>\n",
       "      <th>Oldpeak</th>\n",
       "      <th>HeartDisease</th>\n",
       "      <th>Sex_M</th>\n",
       "      <th>ChestPainType_ATA</th>\n",
       "      <th>ChestPainType_NAP</th>\n",
       "      <th>ChestPainType_TA</th>\n",
       "      <th>RestingECG_Normal</th>\n",
       "      <th>RestingECG_ST</th>\n",
       "      <th>ExerciseAngina_Y</th>\n",
       "      <th>ST_Slope_Flat</th>\n",
       "      <th>ST_Slope_Up</th>\n",
       "    </tr>\n",
       "  </thead>\n",
       "  <tbody>\n",
       "    <tr>\n",
       "      <th>0</th>\n",
       "      <td>40</td>\n",
       "      <td>140</td>\n",
       "      <td>289</td>\n",
       "      <td>0</td>\n",
       "      <td>172</td>\n",
       "      <td>0.0</td>\n",
       "      <td>0</td>\n",
       "      <td>1</td>\n",
       "      <td>1</td>\n",
       "      <td>0</td>\n",
       "      <td>0</td>\n",
       "      <td>1</td>\n",
       "      <td>0</td>\n",
       "      <td>0</td>\n",
       "      <td>0</td>\n",
       "      <td>1</td>\n",
       "    </tr>\n",
       "    <tr>\n",
       "      <th>1</th>\n",
       "      <td>49</td>\n",
       "      <td>160</td>\n",
       "      <td>180</td>\n",
       "      <td>0</td>\n",
       "      <td>156</td>\n",
       "      <td>1.0</td>\n",
       "      <td>1</td>\n",
       "      <td>0</td>\n",
       "      <td>0</td>\n",
       "      <td>1</td>\n",
       "      <td>0</td>\n",
       "      <td>1</td>\n",
       "      <td>0</td>\n",
       "      <td>0</td>\n",
       "      <td>1</td>\n",
       "      <td>0</td>\n",
       "    </tr>\n",
       "    <tr>\n",
       "      <th>2</th>\n",
       "      <td>37</td>\n",
       "      <td>130</td>\n",
       "      <td>283</td>\n",
       "      <td>0</td>\n",
       "      <td>98</td>\n",
       "      <td>0.0</td>\n",
       "      <td>0</td>\n",
       "      <td>1</td>\n",
       "      <td>1</td>\n",
       "      <td>0</td>\n",
       "      <td>0</td>\n",
       "      <td>0</td>\n",
       "      <td>1</td>\n",
       "      <td>0</td>\n",
       "      <td>0</td>\n",
       "      <td>1</td>\n",
       "    </tr>\n",
       "    <tr>\n",
       "      <th>3</th>\n",
       "      <td>48</td>\n",
       "      <td>138</td>\n",
       "      <td>214</td>\n",
       "      <td>0</td>\n",
       "      <td>108</td>\n",
       "      <td>1.5</td>\n",
       "      <td>1</td>\n",
       "      <td>0</td>\n",
       "      <td>0</td>\n",
       "      <td>0</td>\n",
       "      <td>0</td>\n",
       "      <td>1</td>\n",
       "      <td>0</td>\n",
       "      <td>1</td>\n",
       "      <td>1</td>\n",
       "      <td>0</td>\n",
       "    </tr>\n",
       "    <tr>\n",
       "      <th>4</th>\n",
       "      <td>54</td>\n",
       "      <td>150</td>\n",
       "      <td>195</td>\n",
       "      <td>0</td>\n",
       "      <td>122</td>\n",
       "      <td>0.0</td>\n",
       "      <td>0</td>\n",
       "      <td>1</td>\n",
       "      <td>0</td>\n",
       "      <td>1</td>\n",
       "      <td>0</td>\n",
       "      <td>1</td>\n",
       "      <td>0</td>\n",
       "      <td>0</td>\n",
       "      <td>0</td>\n",
       "      <td>1</td>\n",
       "    </tr>\n",
       "    <tr>\n",
       "      <th>...</th>\n",
       "      <td>...</td>\n",
       "      <td>...</td>\n",
       "      <td>...</td>\n",
       "      <td>...</td>\n",
       "      <td>...</td>\n",
       "      <td>...</td>\n",
       "      <td>...</td>\n",
       "      <td>...</td>\n",
       "      <td>...</td>\n",
       "      <td>...</td>\n",
       "      <td>...</td>\n",
       "      <td>...</td>\n",
       "      <td>...</td>\n",
       "      <td>...</td>\n",
       "      <td>...</td>\n",
       "      <td>...</td>\n",
       "    </tr>\n",
       "    <tr>\n",
       "      <th>913</th>\n",
       "      <td>45</td>\n",
       "      <td>110</td>\n",
       "      <td>264</td>\n",
       "      <td>0</td>\n",
       "      <td>132</td>\n",
       "      <td>1.2</td>\n",
       "      <td>1</td>\n",
       "      <td>1</td>\n",
       "      <td>0</td>\n",
       "      <td>0</td>\n",
       "      <td>1</td>\n",
       "      <td>1</td>\n",
       "      <td>0</td>\n",
       "      <td>0</td>\n",
       "      <td>1</td>\n",
       "      <td>0</td>\n",
       "    </tr>\n",
       "    <tr>\n",
       "      <th>914</th>\n",
       "      <td>68</td>\n",
       "      <td>144</td>\n",
       "      <td>193</td>\n",
       "      <td>1</td>\n",
       "      <td>141</td>\n",
       "      <td>3.4</td>\n",
       "      <td>1</td>\n",
       "      <td>1</td>\n",
       "      <td>0</td>\n",
       "      <td>0</td>\n",
       "      <td>0</td>\n",
       "      <td>1</td>\n",
       "      <td>0</td>\n",
       "      <td>0</td>\n",
       "      <td>1</td>\n",
       "      <td>0</td>\n",
       "    </tr>\n",
       "    <tr>\n",
       "      <th>915</th>\n",
       "      <td>57</td>\n",
       "      <td>130</td>\n",
       "      <td>131</td>\n",
       "      <td>0</td>\n",
       "      <td>115</td>\n",
       "      <td>1.2</td>\n",
       "      <td>1</td>\n",
       "      <td>1</td>\n",
       "      <td>0</td>\n",
       "      <td>0</td>\n",
       "      <td>0</td>\n",
       "      <td>1</td>\n",
       "      <td>0</td>\n",
       "      <td>1</td>\n",
       "      <td>1</td>\n",
       "      <td>0</td>\n",
       "    </tr>\n",
       "    <tr>\n",
       "      <th>916</th>\n",
       "      <td>57</td>\n",
       "      <td>130</td>\n",
       "      <td>236</td>\n",
       "      <td>0</td>\n",
       "      <td>174</td>\n",
       "      <td>0.0</td>\n",
       "      <td>1</td>\n",
       "      <td>0</td>\n",
       "      <td>1</td>\n",
       "      <td>0</td>\n",
       "      <td>0</td>\n",
       "      <td>0</td>\n",
       "      <td>0</td>\n",
       "      <td>0</td>\n",
       "      <td>1</td>\n",
       "      <td>0</td>\n",
       "    </tr>\n",
       "    <tr>\n",
       "      <th>917</th>\n",
       "      <td>38</td>\n",
       "      <td>138</td>\n",
       "      <td>175</td>\n",
       "      <td>0</td>\n",
       "      <td>173</td>\n",
       "      <td>0.0</td>\n",
       "      <td>0</td>\n",
       "      <td>1</td>\n",
       "      <td>0</td>\n",
       "      <td>1</td>\n",
       "      <td>0</td>\n",
       "      <td>1</td>\n",
       "      <td>0</td>\n",
       "      <td>0</td>\n",
       "      <td>0</td>\n",
       "      <td>1</td>\n",
       "    </tr>\n",
       "  </tbody>\n",
       "</table>\n",
       "<p>918 rows × 16 columns</p>\n",
       "</div>"
      ],
      "text/plain": [
       "     Age  RestingBP  Cholesterol  FastingBS  MaxHR  Oldpeak  HeartDisease  \\\n",
       "0     40        140          289          0    172      0.0             0   \n",
       "1     49        160          180          0    156      1.0             1   \n",
       "2     37        130          283          0     98      0.0             0   \n",
       "3     48        138          214          0    108      1.5             1   \n",
       "4     54        150          195          0    122      0.0             0   \n",
       "..   ...        ...          ...        ...    ...      ...           ...   \n",
       "913   45        110          264          0    132      1.2             1   \n",
       "914   68        144          193          1    141      3.4             1   \n",
       "915   57        130          131          0    115      1.2             1   \n",
       "916   57        130          236          0    174      0.0             1   \n",
       "917   38        138          175          0    173      0.0             0   \n",
       "\n",
       "     Sex_M  ChestPainType_ATA  ChestPainType_NAP  ChestPainType_TA  \\\n",
       "0        1                  1                  0                 0   \n",
       "1        0                  0                  1                 0   \n",
       "2        1                  1                  0                 0   \n",
       "3        0                  0                  0                 0   \n",
       "4        1                  0                  1                 0   \n",
       "..     ...                ...                ...               ...   \n",
       "913      1                  0                  0                 1   \n",
       "914      1                  0                  0                 0   \n",
       "915      1                  0                  0                 0   \n",
       "916      0                  1                  0                 0   \n",
       "917      1                  0                  1                 0   \n",
       "\n",
       "     RestingECG_Normal  RestingECG_ST  ExerciseAngina_Y  ST_Slope_Flat  \\\n",
       "0                    1              0                 0              0   \n",
       "1                    1              0                 0              1   \n",
       "2                    0              1                 0              0   \n",
       "3                    1              0                 1              1   \n",
       "4                    1              0                 0              0   \n",
       "..                 ...            ...               ...            ...   \n",
       "913                  1              0                 0              1   \n",
       "914                  1              0                 0              1   \n",
       "915                  1              0                 1              1   \n",
       "916                  0              0                 0              1   \n",
       "917                  1              0                 0              0   \n",
       "\n",
       "     ST_Slope_Up  \n",
       "0              1  \n",
       "1              0  \n",
       "2              1  \n",
       "3              0  \n",
       "4              1  \n",
       "..           ...  \n",
       "913            0  \n",
       "914            0  \n",
       "915            0  \n",
       "916            0  \n",
       "917            1  \n",
       "\n",
       "[918 rows x 16 columns]"
      ]
     },
     "execution_count": 5,
     "metadata": {},
     "output_type": "execute_result"
    }
   ],
   "source": [
    "# Dummified Data\n",
    "data_dummies"
   ]
  },
  {
   "cell_type": "code",
   "execution_count": 6,
   "id": "c1d58070",
   "metadata": {},
   "outputs": [],
   "source": [
    "# chestpain_map = {'ATA': 0, 'NAP': 1, 'ASY': 2, 'TA': 3}\n",
    "# resting_map = {'Normal': 0, 'LVH': 1, 'ST': 2}\n",
    "# exercise_map = {'N': 0, 'Y': 1}\n",
    "# st_map = {'Flat': 0, 'Up': 1, 'Down': 2}\n",
    "# sex_map = {'M': 0, 'F': 1}"
   ]
  },
  {
   "cell_type": "code",
   "execution_count": 7,
   "id": "e87ce637",
   "metadata": {},
   "outputs": [],
   "source": [
    "# def numeric_features(data):\n",
    "#     data = data.copy()\n",
    "#     data['ChestPainType'] = data['ChestPainType'].map(chestpain_map)\n",
    "#     data['Sex'] = data['Sex'].map(sex_map)\n",
    "#     data['RestingECG'] = data['RestingECG'].map(resting_map)\n",
    "#     data['ExerciseAngina'] = data['ExerciseAngina'].map(exercise_map)\n",
    "#     data['ST_Slope'] = data['ST_Slope'].map(st_map)\n",
    "#     return data"
   ]
  },
  {
   "cell_type": "code",
   "execution_count": 8,
   "id": "47a43d43",
   "metadata": {},
   "outputs": [],
   "source": [
    "# data_mapped = numeric_features(data)"
   ]
  },
  {
   "cell_type": "markdown",
   "id": "887c5c50",
   "metadata": {},
   "source": [
    "## Train/Test split'\n",
    "Now, we will split our data into training and testing data and work accordingly"
   ]
  },
  {
   "cell_type": "code",
   "execution_count": 9,
   "id": "36eaa1a8",
   "metadata": {},
   "outputs": [],
   "source": [
    "# Separate Features and Target Variable\n",
    "X = data_dummies.drop([\"HeartDisease\"], axis=1)\n",
    "y = data_dummies[\"HeartDisease\"]\n",
    "\n",
    "# Split\n",
    "X_train, X_valid, y_train, y_valid = train_test_split(X, y, test_size=0.15, stratify = y, random_state = 123)"
   ]
  },
  {
   "cell_type": "markdown",
   "id": "14e1de1e",
   "metadata": {},
   "source": [
    "## Scaling"
   ]
  },
  {
   "cell_type": "markdown",
   "id": "e6140c49",
   "metadata": {},
   "source": [
    "Instead of scaling at each model's pipeline, we will scale our data once and then use it in all models"
   ]
  },
  {
   "cell_type": "code",
   "execution_count": 10,
   "id": "391997b9",
   "metadata": {},
   "outputs": [],
   "source": [
    "# Initiate Scaler\n",
    "scaler = StandardScaler()"
   ]
  },
  {
   "cell_type": "code",
   "execution_count": 11,
   "id": "6de78054",
   "metadata": {},
   "outputs": [],
   "source": [
    "# Scale X_train and X_valid\n",
    "X_train_scaled = scaler.fit_transform(X_train)\n",
    "X_valid_scaled = scaler.transform(X_valid)"
   ]
  },
  {
   "cell_type": "code",
   "execution_count": 12,
   "id": "17a1b82d",
   "metadata": {},
   "outputs": [],
   "source": [
    "# Save scaled data in order to maintain test reproducibility \n",
    "!mkdir -p data/scaled\n",
    "np.save('data/scaled/X_train.npy', X_train_scaled)\n",
    "np.save('data/scaled/X_valid.npy', X_valid_scaled)\n",
    "np.save('data/scaled/y_train.npy', y_train)\n",
    "np.save('data/scaled/y_valid.npy', y_valid)"
   ]
  },
  {
   "cell_type": "markdown",
   "id": "a23b77c2",
   "metadata": {},
   "source": [
    "## Prepare dataframe for logging test scores"
   ]
  },
  {
   "cell_type": "code",
   "execution_count": 13,
   "id": "4993468f",
   "metadata": {},
   "outputs": [
    {
     "data": {
      "text/html": [
       "<div>\n",
       "<style scoped>\n",
       "    .dataframe tbody tr th:only-of-type {\n",
       "        vertical-align: middle;\n",
       "    }\n",
       "\n",
       "    .dataframe tbody tr th {\n",
       "        vertical-align: top;\n",
       "    }\n",
       "\n",
       "    .dataframe thead tr th {\n",
       "        text-align: left;\n",
       "    }\n",
       "</style>\n",
       "<table border=\"1\" class=\"dataframe\">\n",
       "  <thead>\n",
       "    <tr>\n",
       "      <th>Iteration</th>\n",
       "      <th colspan=\"2\" halign=\"left\">Base Model</th>\n",
       "      <th colspan=\"2\" halign=\"left\">Tuned Model</th>\n",
       "    </tr>\n",
       "    <tr>\n",
       "      <th>Accuracy</th>\n",
       "      <th>Train</th>\n",
       "      <th>Valid</th>\n",
       "      <th>Train</th>\n",
       "      <th>Valid</th>\n",
       "    </tr>\n",
       "  </thead>\n",
       "  <tbody>\n",
       "    <tr>\n",
       "      <th>GaussianNB</th>\n",
       "      <td>0.0</td>\n",
       "      <td>0.0</td>\n",
       "      <td>0.0</td>\n",
       "      <td>0.0</td>\n",
       "    </tr>\n",
       "    <tr>\n",
       "      <th>SVC</th>\n",
       "      <td>0.0</td>\n",
       "      <td>0.0</td>\n",
       "      <td>0.0</td>\n",
       "      <td>0.0</td>\n",
       "    </tr>\n",
       "    <tr>\n",
       "      <th>KNN</th>\n",
       "      <td>0.0</td>\n",
       "      <td>0.0</td>\n",
       "      <td>0.0</td>\n",
       "      <td>0.0</td>\n",
       "    </tr>\n",
       "    <tr>\n",
       "      <th>Decision Trees</th>\n",
       "      <td>0.0</td>\n",
       "      <td>0.0</td>\n",
       "      <td>0.0</td>\n",
       "      <td>0.0</td>\n",
       "    </tr>\n",
       "    <tr>\n",
       "      <th>Random Forest</th>\n",
       "      <td>0.0</td>\n",
       "      <td>0.0</td>\n",
       "      <td>0.0</td>\n",
       "      <td>0.0</td>\n",
       "    </tr>\n",
       "    <tr>\n",
       "      <th>Gradient Boosting</th>\n",
       "      <td>0.0</td>\n",
       "      <td>0.0</td>\n",
       "      <td>0.0</td>\n",
       "      <td>0.0</td>\n",
       "    </tr>\n",
       "    <tr>\n",
       "      <th>MLP Classifier</th>\n",
       "      <td>0.0</td>\n",
       "      <td>0.0</td>\n",
       "      <td>0.0</td>\n",
       "      <td>0.0</td>\n",
       "    </tr>\n",
       "  </tbody>\n",
       "</table>\n",
       "</div>"
      ],
      "text/plain": [
       "Iteration         Base Model       Tuned Model      \n",
       "Accuracy               Train Valid       Train Valid\n",
       "GaussianNB               0.0   0.0         0.0   0.0\n",
       "SVC                      0.0   0.0         0.0   0.0\n",
       "KNN                      0.0   0.0         0.0   0.0\n",
       "Decision Trees           0.0   0.0         0.0   0.0\n",
       "Random Forest            0.0   0.0         0.0   0.0\n",
       "Gradient Boosting        0.0   0.0         0.0   0.0\n",
       "MLP Classifier           0.0   0.0         0.0   0.0"
      ]
     },
     "execution_count": 13,
     "metadata": {},
     "output_type": "execute_result"
    }
   ],
   "source": [
    "iterables = [['Base Model', 'Tuned Model'],['Train', 'Valid']]\n",
    "multi = pd.MultiIndex.from_product(iterables, names=['Iteration', 'Accuracy'])\n",
    "scores = pd.DataFrame(np.zeros(7*4).reshape(7,4),\n",
    "                      index = ['GaussianNB',  'SVC', 'KNN', 'Decision Trees', 'Random Forest', 'Gradient Boosting',\n",
    "                              'MLP Classifier'],\n",
    "                      columns=multi)\n",
    "scores"
   ]
  },
  {
   "cell_type": "markdown",
   "id": "41071707",
   "metadata": {},
   "source": [
    "## Results functions"
   ]
  },
  {
   "cell_type": "code",
   "execution_count": 14,
   "id": "44d06048",
   "metadata": {},
   "outputs": [],
   "source": [
    "# Output template\n",
    "OUTPUT_TEMPLATE = (\n",
    "    'Classifier :  {name}\\n'\n",
    "    'Train Score:  {train_score:.3f}\\n'\n",
    "    'Valid Score:  {valid_score:.3f}\\n'\n",
    ")\n",
    "\n",
    "def outData(results):\n",
    "    print(OUTPUT_TEMPLATE.format(\n",
    "        name=results[0],\n",
    "        train_score=results[1],\n",
    "        valid_score=results[2],\n",
    "        ))\n",
    "\n",
    "    print(\"Classification Report:\")\n",
    "    print(classification_report(results[3], results[4]))\n",
    "    print(\"\")"
   ]
  },
  {
   "cell_type": "markdown",
   "id": "b601ad93",
   "metadata": {},
   "source": [
    "## Base Model Training (train model with default parameter)\n",
    "For the initial run, we will use our models as it is with the default parameters. We will be tuning them later"
   ]
  },
  {
   "cell_type": "code",
   "execution_count": 15,
   "id": "a8f0672d",
   "metadata": {},
   "outputs": [
    {
     "name": "stdout",
     "output_type": "stream",
     "text": [
      "Base Models directory already exists!\n"
     ]
    }
   ],
   "source": [
    "# Directory to save models\n",
    "if not os.path.exists(\"models/base\"):\n",
    "    print(\"Initiated Base Models directory!\")\n",
    "    os.makedirs(\"models/base\")\n",
    "else:\n",
    "    print(\"Base Models directory already exists!\")"
   ]
  },
  {
   "cell_type": "code",
   "execution_count": 16,
   "id": "955a08e1",
   "metadata": {},
   "outputs": [],
   "source": [
    "# Train Model Function\n",
    "def train_model(model, modelName, X_train, y_train, X_valid, y_valid):\n",
    "    model = model.fit(X_train, y_train)\n",
    "    train_score = model.score(X_train, y_train)\n",
    "    valid_score = model.score(X_valid, y_valid)\n",
    "    outData([modelName, \n",
    "             model.score(X_train, y_train),\n",
    "             model.score(X_valid, y_valid),\n",
    "             y_valid,\n",
    "             model.predict(X_valid),\n",
    "             model.predict_proba(X_valid)])\n",
    "    print(\"\\nConfusion Matrix\\n\")\n",
    "    plot_confusion_matrix(model,X_valid,y_valid,cmap='gnuplot',normalize='true')\n",
    "    plt.show()\n",
    "    dump(model, 'models/base/' + modelName + '.joblib')\n",
    "    return  (train_score, valid_score)"
   ]
  },
  {
   "cell_type": "markdown",
   "id": "e4bcfe79",
   "metadata": {},
   "source": [
    "### 1. GaussianNB"
   ]
  },
  {
   "cell_type": "code",
   "execution_count": 17,
   "id": "42d18a7d",
   "metadata": {},
   "outputs": [
    {
     "name": "stdout",
     "output_type": "stream",
     "text": [
      "Classifier :  GaussianNB\n",
      "Train Score:  0.863\n",
      "Valid Score:  0.862\n",
      "\n",
      "Classification Report:\n",
      "              precision    recall  f1-score   support\n",
      "\n",
      "           0       0.83      0.87      0.85        62\n",
      "           1       0.89      0.86      0.87        76\n",
      "\n",
      "    accuracy                           0.86       138\n",
      "   macro avg       0.86      0.86      0.86       138\n",
      "weighted avg       0.86      0.86      0.86       138\n",
      "\n",
      "\n",
      "\n",
      "Confusion Matrix\n",
      "\n"
     ]
    },
    {
     "data": {
      "image/png": "[encoded data removed]",
      "text/plain": [
       "<Figure size 432x288 with 2 Axes>"
      ]
     },
     "metadata": {
      "needs_background": "light"
     },
     "output_type": "display_data"
    }
   ],
   "source": [
    "# Initiate model\n",
    "model = GaussianNB()\n",
    "\n",
    "# Train model\n",
    "train, valid = train_model(model, \"GaussianNB\", X_train_scaled, y_train, X_valid_scaled, y_valid)\n",
    "scores.loc['GaussianNB', ['Base Model'][0]].loc['Train'] = train\n",
    "scores.loc['GaussianNB', ['Base Model'][0]].loc['Valid'] = valid"
   ]
  },
  {
   "cell_type": "markdown",
   "id": "60b48d5f",
   "metadata": {},
   "source": [
    "### 2. SVC"
   ]
  },
  {
   "cell_type": "code",
   "execution_count": 18,
   "id": "125f3214",
   "metadata": {},
   "outputs": [
    {
     "name": "stdout",
     "output_type": "stream",
     "text": [
      "Classifier :  SVC\n",
      "Train Score:  0.918\n",
      "Valid Score:  0.870\n",
      "\n",
      "Classification Report:\n",
      "              precision    recall  f1-score   support\n",
      "\n",
      "           0       0.87      0.84      0.85        62\n",
      "           1       0.87      0.89      0.88        76\n",
      "\n",
      "    accuracy                           0.87       138\n",
      "   macro avg       0.87      0.87      0.87       138\n",
      "weighted avg       0.87      0.87      0.87       138\n",
      "\n",
      "\n",
      "\n",
      "Confusion Matrix\n",
      "\n"
     ]
    },
    {
     "data": {
      "image/png": "[encoded data removed]",
      "text/plain": [
       "<Figure size 432x288 with 2 Axes>"
      ]
     },
     "metadata": {
      "needs_background": "light"
     },
     "output_type": "display_data"
    }
   ],
   "source": [
    "# Initiate model\n",
    "model = SVC(probability=True)\n",
    "\n",
    "# Train model\n",
    "train, valid = train_model(model, \"SVC\", X_train_scaled, y_train, X_valid_scaled, y_valid)\n",
    "scores.loc['SVC', ['Base Model'][0]].loc['Train'] = train\n",
    "scores.loc['SVC', ['Base Model'][0]].loc['Valid'] = valid"
   ]
  },
  {
   "cell_type": "markdown",
   "id": "60ea0c1c",
   "metadata": {},
   "source": [
    "### 3. KNearestNeighbours"
   ]
  },
  {
   "cell_type": "code",
   "execution_count": 19,
   "id": "17ab8ed4",
   "metadata": {},
   "outputs": [
    {
     "name": "stdout",
     "output_type": "stream",
     "text": [
      "Classifier :  KNN\n",
      "Train Score:  0.900\n",
      "Valid Score:  0.884\n",
      "\n",
      "Classification Report:\n",
      "              precision    recall  f1-score   support\n",
      "\n",
      "           0       0.90      0.84      0.87        62\n",
      "           1       0.88      0.92      0.90        76\n",
      "\n",
      "    accuracy                           0.88       138\n",
      "   macro avg       0.89      0.88      0.88       138\n",
      "weighted avg       0.88      0.88      0.88       138\n",
      "\n",
      "\n",
      "\n",
      "Confusion Matrix\n",
      "\n"
     ]
    },
    {
     "data": {
      "image/png": "[encoded data removed]",
      "text/plain": [
       "<Figure size 432x288 with 2 Axes>"
      ]
     },
     "metadata": {
      "needs_background": "light"
     },
     "output_type": "display_data"
    }
   ],
   "source": [
    "# Initiate model\n",
    "model = KNeighborsClassifier()\n",
    "\n",
    "# Train model\n",
    "train, valid = train_model(model, \"KNN\", X_train_scaled, y_train, X_valid_scaled, y_valid)\n",
    "scores.loc['KNN', ['Base Model'][0]].loc['Train'] = train\n",
    "scores.loc['KNN', ['Base Model'][0]].loc['Valid'] = valid"
   ]
  },
  {
   "cell_type": "markdown",
   "id": "1199d62f",
   "metadata": {},
   "source": [
    "### 4. Decision Trees"
   ]
  },
  {
   "cell_type": "code",
   "execution_count": 20,
   "id": "70e1ebab",
   "metadata": {},
   "outputs": [
    {
     "name": "stdout",
     "output_type": "stream",
     "text": [
      "Classifier :  Decision Trees\n",
      "Train Score:  1.000\n",
      "Valid Score:  0.790\n",
      "\n",
      "Classification Report:\n",
      "              precision    recall  f1-score   support\n",
      "\n",
      "           0       0.76      0.77      0.77        62\n",
      "           1       0.81      0.80      0.81        76\n",
      "\n",
      "    accuracy                           0.79       138\n",
      "   macro avg       0.79      0.79      0.79       138\n",
      "weighted avg       0.79      0.79      0.79       138\n",
      "\n",
      "\n",
      "\n",
      "Confusion Matrix\n",
      "\n"
     ]
    },
    {
     "data": {
      "image/png": "[encoded data removed]",
      "text/plain": [
       "<Figure size 432x288 with 2 Axes>"
      ]
     },
     "metadata": {
      "needs_background": "light"
     },
     "output_type": "display_data"
    }
   ],
   "source": [
    "# Initiate model\n",
    "model = DecisionTreeClassifier()\n",
    "\n",
    "# Train Model\n",
    "train, valid = train_model(model, \"Decision Trees\", X_train_scaled, y_train, X_valid_scaled, y_valid)\n",
    "scores.loc['Decision Trees', ['Base Model'][0]].loc['Train'] = train\n",
    "scores.loc['Decision Trees', ['Base Model'][0]].loc['Valid'] = valid"
   ]
  },
  {
   "cell_type": "markdown",
   "id": "c291a720",
   "metadata": {},
   "source": [
    "### 5. Random Forest"
   ]
  },
  {
   "cell_type": "code",
   "execution_count": 21,
   "id": "1d732f28",
   "metadata": {},
   "outputs": [
    {
     "name": "stdout",
     "output_type": "stream",
     "text": [
      "Classifier :  Random Forest\n",
      "Train Score:  1.000\n",
      "Valid Score:  0.870\n",
      "\n",
      "Classification Report:\n",
      "              precision    recall  f1-score   support\n",
      "\n",
      "           0       0.85      0.85      0.85        62\n",
      "           1       0.88      0.88      0.88        76\n",
      "\n",
      "    accuracy                           0.87       138\n",
      "   macro avg       0.87      0.87      0.87       138\n",
      "weighted avg       0.87      0.87      0.87       138\n",
      "\n",
      "\n",
      "\n",
      "Confusion Matrix\n",
      "\n"
     ]
    },
    {
     "data": {
      "image/png": "[encoded data removed]",
      "text/plain": [
       "<Figure size 432x288 with 2 Axes>"
      ]
     },
     "metadata": {
      "needs_background": "light"
     },
     "output_type": "display_data"
    }
   ],
   "source": [
    "# Initiate model\n",
    "model = RandomForestClassifier()\n",
    "\n",
    "# Train model\n",
    "train, valid = train_model(model, \"Random Forest\", X_train_scaled,  y_train, X_valid_scaled, y_valid)\n",
    "scores.loc['Random Forest', ['Base Model'][0]].loc['Train'] = train\n",
    "scores.loc['Random Forest', ['Base Model'][0]].loc['Valid'] = valid"
   ]
  },
  {
   "cell_type": "markdown",
   "id": "e28bd697",
   "metadata": {},
   "source": [
    "### 6. Gradient Boosting"
   ]
  },
  {
   "cell_type": "code",
   "execution_count": 22,
   "id": "785d02e5",
   "metadata": {},
   "outputs": [
    {
     "name": "stdout",
     "output_type": "stream",
     "text": [
      "Classifier :  Gradient Boosting\n",
      "Train Score:  0.946\n",
      "Valid Score:  0.870\n",
      "\n",
      "Classification Report:\n",
      "              precision    recall  f1-score   support\n",
      "\n",
      "           0       0.84      0.87      0.86        62\n",
      "           1       0.89      0.87      0.88        76\n",
      "\n",
      "    accuracy                           0.87       138\n",
      "   macro avg       0.87      0.87      0.87       138\n",
      "weighted avg       0.87      0.87      0.87       138\n",
      "\n",
      "\n",
      "\n",
      "Confusion Matrix\n",
      "\n"
     ]
    },
    {
     "data": {
      "image/png": "[encoded data removed]",
      "text/plain": [
       "<Figure size 432x288 with 2 Axes>"
      ]
     },
     "metadata": {
      "needs_background": "light"
     },
     "output_type": "display_data"
    }
   ],
   "source": [
    "# Initiate model\n",
    "model = GradientBoostingClassifier()\n",
    "\n",
    "# Train model\n",
    "train, valid = train_model(model, \"Gradient Boosting\", X_train_scaled, y_train, X_valid_scaled, y_valid)\n",
    "scores.loc['Gradient Boosting', ['Base Model'][0]].loc['Train'] = train\n",
    "scores.loc['Gradient Boosting', ['Base Model'][0]].loc['Valid'] = valid"
   ]
  },
  {
   "cell_type": "markdown",
   "id": "fcc1dd09",
   "metadata": {},
   "source": [
    "### 7. MLP Classifier"
   ]
  },
  {
   "cell_type": "code",
   "execution_count": 23,
   "id": "7b2cbd87",
   "metadata": {},
   "outputs": [
    {
     "name": "stdout",
     "output_type": "stream",
     "text": [
      "Classifier :  MLP Classifier\n",
      "Train Score:  0.926\n",
      "Valid Score:  0.862\n",
      "\n",
      "Classification Report:\n",
      "              precision    recall  f1-score   support\n",
      "\n",
      "           0       0.85      0.84      0.85        62\n",
      "           1       0.87      0.88      0.88        76\n",
      "\n",
      "    accuracy                           0.86       138\n",
      "   macro avg       0.86      0.86      0.86       138\n",
      "weighted avg       0.86      0.86      0.86       138\n",
      "\n",
      "\n",
      "\n",
      "Confusion Matrix\n",
      "\n"
     ]
    },
    {
     "name": "stderr",
     "output_type": "stream",
     "text": [
      "/home/ubuntu/project/lib/python3.8/site-packages/sklearn/neural_network/_multilayer_perceptron.py:692: ConvergenceWarning: Stochastic Optimizer: Maximum iterations (200) reached and the optimization hasn't converged yet.\n",
      "  warnings.warn(\n"
     ]
    },
    {
     "data": {
      "image/png": "[encoded data removed]",
      "text/plain": [
       "<Figure size 432x288 with 2 Axes>"
      ]
     },
     "metadata": {
      "needs_background": "light"
     },
     "output_type": "display_data"
    }
   ],
   "source": [
    "# Initiate Model\n",
    "model = MLPClassifier()\n",
    "\n",
    "# Train Model\n",
    "train_model(model, \"MLP Classifier\", X_train_scaled, y_train, X_valid_scaled, y_valid)\n",
    "scores.loc['MLP Classifier', ['Base Model'][0]].loc['Train'] = train\n",
    "scores.loc['MLP Classifier', ['Base Model'][0]].loc['Valid'] = valid"
   ]
  },
  {
   "cell_type": "markdown",
   "id": "d30f1555",
   "metadata": {},
   "source": [
    "The above warning means that even though the base MLP model ran 200 iterations on our data, it was still not able to converge it. We will try to find optimum hyperparameters later."
   ]
  },
  {
   "cell_type": "code",
   "execution_count": 24,
   "id": "ae089dca",
   "metadata": {},
   "outputs": [
    {
     "data": {
      "text/html": [
       "<div>\n",
       "<style scoped>\n",
       "    .dataframe tbody tr th:only-of-type {\n",
       "        vertical-align: middle;\n",
       "    }\n",
       "\n",
       "    .dataframe tbody tr th {\n",
       "        vertical-align: top;\n",
       "    }\n",
       "\n",
       "    .dataframe thead tr th {\n",
       "        text-align: left;\n",
       "    }\n",
       "</style>\n",
       "<table border=\"1\" class=\"dataframe\">\n",
       "  <thead>\n",
       "    <tr>\n",
       "      <th>Iteration</th>\n",
       "      <th colspan=\"2\" halign=\"left\">Base Model</th>\n",
       "      <th colspan=\"2\" halign=\"left\">Tuned Model</th>\n",
       "    </tr>\n",
       "    <tr>\n",
       "      <th>Accuracy</th>\n",
       "      <th>Train</th>\n",
       "      <th>Valid</th>\n",
       "      <th>Train</th>\n",
       "      <th>Valid</th>\n",
       "    </tr>\n",
       "  </thead>\n",
       "  <tbody>\n",
       "    <tr>\n",
       "      <th>GaussianNB</th>\n",
       "      <td>0.862821</td>\n",
       "      <td>0.862319</td>\n",
       "      <td>0.0</td>\n",
       "      <td>0.0</td>\n",
       "    </tr>\n",
       "    <tr>\n",
       "      <th>SVC</th>\n",
       "      <td>0.917949</td>\n",
       "      <td>0.869565</td>\n",
       "      <td>0.0</td>\n",
       "      <td>0.0</td>\n",
       "    </tr>\n",
       "    <tr>\n",
       "      <th>KNN</th>\n",
       "      <td>0.900000</td>\n",
       "      <td>0.884058</td>\n",
       "      <td>0.0</td>\n",
       "      <td>0.0</td>\n",
       "    </tr>\n",
       "    <tr>\n",
       "      <th>Decision Trees</th>\n",
       "      <td>1.000000</td>\n",
       "      <td>0.789855</td>\n",
       "      <td>0.0</td>\n",
       "      <td>0.0</td>\n",
       "    </tr>\n",
       "    <tr>\n",
       "      <th>Random Forest</th>\n",
       "      <td>1.000000</td>\n",
       "      <td>0.869565</td>\n",
       "      <td>0.0</td>\n",
       "      <td>0.0</td>\n",
       "    </tr>\n",
       "    <tr>\n",
       "      <th>Gradient Boosting</th>\n",
       "      <td>0.946154</td>\n",
       "      <td>0.869565</td>\n",
       "      <td>0.0</td>\n",
       "      <td>0.0</td>\n",
       "    </tr>\n",
       "    <tr>\n",
       "      <th>MLP Classifier</th>\n",
       "      <td>0.946154</td>\n",
       "      <td>0.869565</td>\n",
       "      <td>0.0</td>\n",
       "      <td>0.0</td>\n",
       "    </tr>\n",
       "  </tbody>\n",
       "</table>\n",
       "</div>"
      ],
      "text/plain": [
       "Iteration         Base Model           Tuned Model      \n",
       "Accuracy               Train     Valid       Train Valid\n",
       "GaussianNB          0.862821  0.862319         0.0   0.0\n",
       "SVC                 0.917949  0.869565         0.0   0.0\n",
       "KNN                 0.900000  0.884058         0.0   0.0\n",
       "Decision Trees      1.000000  0.789855         0.0   0.0\n",
       "Random Forest       1.000000  0.869565         0.0   0.0\n",
       "Gradient Boosting   0.946154  0.869565         0.0   0.0\n",
       "MLP Classifier      0.946154  0.869565         0.0   0.0"
      ]
     },
     "execution_count": 24,
     "metadata": {},
     "output_type": "execute_result"
    }
   ],
   "source": [
    "scores"
   ]
  },
  {
   "cell_type": "code",
   "execution_count": 25,
   "id": "3cb8cf24",
   "metadata": {},
   "outputs": [
    {
     "data": {
      "image/png": "[encoded data removed]",
      "text/plain": [
       "<Figure size 720x432 with 1 Axes>"
      ]
     },
     "metadata": {
      "needs_background": "light"
     },
     "output_type": "display_data"
    }
   ],
   "source": [
    "# Plot Base Model Train and Valid Accuracy\n",
    "x_axis = np.arange(len(scores.index))\n",
    "\n",
    "plt.figure(figsize=(10,6))\n",
    "plt.bar(x_axis - 0.2, scores['Base Model']['Train'].values, 0.4, label = 'Train')\n",
    "plt.bar(x_axis + 0.2, scores['Base Model']['Valid'].values, 0.4, label = 'Valid')\n",
    "plt.xticks(x_axis, list(scores.index), rotation=60)\n",
    "plt.xlabel(\"Classifier\")\n",
    "plt.ylabel(\"Accuracy\")\n",
    "plt.title(\"Train and Valid accuracy on Base models\")\n",
    "plt.legend()\n",
    "plt.show()"
   ]
  },
  {
   "cell_type": "code",
   "execution_count": 26,
   "id": "0846b0ed",
   "metadata": {},
   "outputs": [],
   "source": [
    "## Save multicolumn scores\n",
    "buf = StringIO()\n",
    "scores.to_csv(buf)\n",
    "\n",
    "with open('data/scores.csv', 'w') as file:\n",
    "    buf.seek(0)\n",
    "    shutil.copyfileobj(buf, file)"
   ]
  }
 ],
 "metadata": {
  "kernelspec": {
   "display_name": "Python 3 (ipykernel)",
   "language": "python",
   "name": "python3"
  },
  "language_info": {
   "codemirror_mode": {
    "name": "ipython",
    "version": 3
   },
   "file_extension": ".py",
   "mimetype": "text/x-python",
   "name": "python",
   "nbconvert_exporter": "python",
   "pygments_lexer": "ipython3",
   "version": "3.8.10"
  }
 },
 "nbformat": 4,
 "nbformat_minor": 5
}
